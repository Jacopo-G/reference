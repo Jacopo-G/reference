{
 "cells": [
  {
   "cell_type": "markdown",
   "id": "19a012d8",
   "metadata": {},
   "source": [
    "# Scikit-Learn Reference"
   ]
  },
  {
   "cell_type": "markdown",
   "id": "f5908e6c",
   "metadata": {},
   "source": [
    "---"
   ]
  },
  {
   "cell_type": "markdown",
   "id": "03aa7095",
   "metadata": {},
   "source": [
    "# Table of Contents"
   ]
  },
  {
   "cell_type": "markdown",
   "id": "362dcd08",
   "metadata": {},
   "source": [
    "## [Data Class ](#Data-Class)"
   ]
  },
  {
   "cell_type": "markdown",
   "id": "805e097b",
   "metadata": {},
   "source": [
    "## [Load Data ](#Load-Data)"
   ]
  },
  {
   "cell_type": "markdown",
   "id": "29df158f",
   "metadata": {},
   "source": [
    "## [Prep Data ](#Prep-Data)"
   ]
  },
  {
   "cell_type": "markdown",
   "id": "cc0716de",
   "metadata": {},
   "source": [
    "### &nbsp;&nbsp;&nbsp;&nbsp;&nbsp;&nbsp;[Bag of Words Vectorization ](#Bag-of-Words-Vectorization)"
   ]
  },
  {
   "cell_type": "markdown",
   "id": "ea5a80f0",
   "metadata": {},
   "source": [
    "## [Classification ](#Classification)"
   ]
  },
  {
   "cell_type": "markdown",
   "id": "a94f61b7",
   "metadata": {},
   "source": [
    "### &nbsp;&nbsp;&nbsp;&nbsp;&nbsp;&nbsp;[Linear SVM ](#Linear-SVM)"
   ]
  },
  {
   "cell_type": "markdown",
   "id": "6e07ab1e",
   "metadata": {},
   "source": [
    "### &nbsp;&nbsp;&nbsp;&nbsp;&nbsp;&nbsp;[Decision Tree ](#Decision-Tree)"
   ]
  },
  {
   "cell_type": "markdown",
   "id": "5f6d04db",
   "metadata": {},
   "source": [
    "### &nbsp;&nbsp;&nbsp;&nbsp;&nbsp;&nbsp;[Naive Bayes ](#Naive-Bayes)"
   ]
  },
  {
   "cell_type": "markdown",
   "id": "1935fa11",
   "metadata": {},
   "source": [
    "### &nbsp;&nbsp;&nbsp;&nbsp;&nbsp;&nbsp;[Logistic-Regression ](#Logistic-Regression)"
   ]
  },
  {
   "cell_type": "markdown",
   "id": "23e37080",
   "metadata": {},
   "source": [
    "## [Evaluation ](#Evaluation)"
   ]
  },
  {
   "cell_type": "markdown",
   "id": "80e3a193",
   "metadata": {},
   "source": [
    "## [Tuning our Model (With Grid Search) ](#Tuning-our-Model-(With-Grid-Search))"
   ]
  },
  {
   "cell_type": "markdown",
   "id": "0a0de7b4",
   "metadata": {},
   "source": [
    "## [Saving Model ](#Saving-Model)"
   ]
  },
  {
   "cell_type": "markdown",
   "id": "b31631c5",
   "metadata": {},
   "source": [
    "### &nbsp;&nbsp;&nbsp;&nbsp;&nbsp;&nbsp;[Save Model ](#Save-Model)"
   ]
  },
  {
   "cell_type": "markdown",
   "id": "20b6b038",
   "metadata": {},
   "source": [
    "### &nbsp;&nbsp;&nbsp;&nbsp;&nbsp;&nbsp;[Load Model ](#Load-Model)"
   ]
  },
  {
   "cell_type": "markdown",
   "id": "c8543999",
   "metadata": {},
   "source": [
    "---"
   ]
  },
  {
   "cell_type": "markdown",
   "id": "dbcd992b",
   "metadata": {},
   "source": [
    "# Data Class"
   ]
  },
  {
   "cell_type": "code",
   "execution_count": 1,
   "id": "b80814f7",
   "metadata": {},
   "outputs": [],
   "source": [
    "import random\n",
    "\n",
    "class Sentiment:\n",
    "    NEGATIVE = \"NEGATIVE\"\n",
    "    NEUTRAL = \"NEUTRAL\"\n",
    "    POSITIVE = \"POSITIVE\"\n",
    "\n",
    "class Review:\n",
    "    def __init__(self, text, score):\n",
    "        self.text = text\n",
    "        self.score = score\n",
    "        self.sentiment = self.get_sentiment()\n",
    "    def get_sentiment(self):\n",
    "        if self.score <= 2:\n",
    "            return Sentiment.NEGATIVE\n",
    "        elif self.score == 3:\n",
    "            return Sentiment.NEUTRAL\n",
    "        else: # score of 4 or 5\n",
    "            return Sentiment.POSITIVE\n",
    "class ReviewContainer:\n",
    "    def __init__(self, reviews):\n",
    "        self.reviews = reviews\n",
    "    \n",
    "    def get_text(self):\n",
    "        return [x.text for x in self.reviews]\n",
    "        \n",
    "    def get_sentiment(self):\n",
    "        return [x.sentiment for x in self.reviews]\n",
    "    \n",
    "    def evenly_distribute(self):\n",
    "        negative = list(filter(lambda x: x.sentiment == Sentiment.NEGATIVE, self.reviews))\n",
    "        positive = list(filter(lambda x: x.sentiment == Sentiment.POSITIVE, self.reviews))\n",
    "        positive_shrunk = positive[:len(negative)]\n",
    "        self.reviews = negative + positive_shrunk\n",
    "        random.shuffle(self.reviews)"
   ]
  },
  {
   "cell_type": "markdown",
   "id": "5545a0b1",
   "metadata": {},
   "source": [
    "---"
   ]
  },
  {
   "cell_type": "markdown",
   "id": "266fcce3",
   "metadata": {},
   "source": [
    "# Load Data"
   ]
  },
  {
   "cell_type": "code",
   "execution_count": 2,
   "id": "09d03bb8",
   "metadata": {},
   "outputs": [
    {
     "data": {
      "text/plain": [
       "'POSITIVE'"
      ]
     },
     "execution_count": 2,
     "metadata": {},
     "output_type": "execute_result"
    }
   ],
   "source": [
    "import json\n",
    "\n",
    "file_name = \"./data/sentiment/books_small_10000.json\"\n",
    "reviews = []\n",
    "with open(file_name) as f:\n",
    "    for line in f:\n",
    "        review = json.loads(line)\n",
    "        reviews.append(Review(review[\"reviewText\"], review[\"overall\"]))\n",
    "reviews[342].sentiment"
   ]
  },
  {
   "cell_type": "markdown",
   "id": "9e1627b1",
   "metadata": {},
   "source": [
    "---"
   ]
  },
  {
   "cell_type": "markdown",
   "id": "4f5b00cd",
   "metadata": {},
   "source": [
    "# Prep Data"
   ]
  },
  {
   "cell_type": "code",
   "execution_count": 3,
   "id": "847a8497",
   "metadata": {},
   "outputs": [],
   "source": [
    "from sklearn.model_selection import train_test_split\n",
    "\n",
    "training, test = train_test_split(reviews, test_size=0.33, random_state=42)\n",
    "\n",
    "train_container = ReviewContainer(training)\n",
    "test_container = ReviewContainer(test)"
   ]
  },
  {
   "cell_type": "code",
   "execution_count": 4,
   "id": "47e1052b",
   "metadata": {},
   "outputs": [
    {
     "name": "stdout",
     "output_type": "stream",
     "text": [
      "436\n",
      "436\n"
     ]
    }
   ],
   "source": [
    "train_container.evenly_distribute()\n",
    "train_x = train_container.get_text()\n",
    "train_y = train_container.get_sentiment()\n",
    "\n",
    "test_container.evenly_distribute()\n",
    "test_x = test_container.get_text()\n",
    "test_y = test_container.get_sentiment()\n",
    "\n",
    "print(train_y.count(Sentiment.POSITIVE))\n",
    "print(train_y.count(Sentiment.NEGATIVE))"
   ]
  },
  {
   "cell_type": "markdown",
   "id": "b8b641f3",
   "metadata": {},
   "source": [
    "### Bag of Words Vectorization"
   ]
  },
  {
   "cell_type": "code",
   "execution_count": 5,
   "id": "f7666e52",
   "metadata": {},
   "outputs": [
    {
     "name": "stdout",
     "output_type": "stream",
     "text": [
      "  (0, 3355)\t0.1260987450189101\n",
      "  (0, 2686)\t0.09706609761484508\n",
      "  (0, 8879)\t0.05616628705856641\n",
      "  (0, 3968)\t0.06528702197527632\n",
      "  (0, 8817)\t0.10916307526324438\n",
      "  (0, 8665)\t0.07226492943548314\n",
      "  (0, 3781)\t0.090702954029304\n",
      "  (0, 4782)\t0.07300505853450096\n",
      "  (0, 2946)\t0.13721357596418915\n",
      "  (0, 5802)\t0.1195156804693861\n",
      "  (0, 5549)\t0.0680698344934807\n",
      "  (0, 1891)\t0.1630424442326433\n",
      "  (0, 3908)\t0.1329482398057699\n",
      "  (0, 2198)\t0.15734499445248573\n",
      "  (0, 8711)\t0.1630424442326433\n",
      "  (0, 5512)\t0.055876688497626684\n",
      "  (0, 1187)\t0.18074033972744635\n",
      "  (0, 5005)\t0.13964709895768268\n",
      "  (0, 285)\t0.08298491747007937\n",
      "  (0, 2863)\t0.15268983902650163\n",
      "  (0, 1971)\t0.14534454873784025\n",
      "  (0, 2424)\t0.1630424442326433\n",
      "  (0, 7303)\t0.0749550642981604\n",
      "  (0, 423)\t0.0322900864028065\n",
      "  (0, 8462)\t0.14875396119485296\n",
      "  :\t:\n",
      "  (0, 8760)\t0.09559625255652344\n",
      "  (0, 371)\t0.10994875774823414\n",
      "  (0, 8704)\t0.06901559691390033\n",
      "  (0, 6904)\t0.11335817020524684\n",
      "  (0, 3761)\t0.11159659825673793\n",
      "  (0, 4406)\t0.18074033972744635\n",
      "  (0, 7790)\t0.1630424442326433\n",
      "  (0, 8052)\t0.06636395726160366\n",
      "  (0, 8113)\t0.13499194353169858\n",
      "  (0, 1197)\t0.15734499445248573\n",
      "  (0, 5478)\t0.07428835760186162\n",
      "  (0, 6948)\t0.14534454873784025\n",
      "  (0, 8844)\t0.11625175368272203\n",
      "  (0, 7929)\t0.09157030149672099\n",
      "  (0, 4034)\t0.12567503010094702\n",
      "  (0, 8588)\t0.15734499445248573\n",
      "  (0, 3223)\t0.08889136704802543\n",
      "  (0, 4090)\t0.1703877345213047\n",
      "  (0, 3264)\t0.06460245909201873\n",
      "  (0, 6392)\t0.09936983997725264\n",
      "  (0, 2830)\t0.2552933064860744\n",
      "  (0, 416)\t0.12310030536168935\n",
      "  (0, 6322)\t0.10489773910482514\n",
      "  (0, 4264)\t0.08312159037535345\n",
      "  (0, 7976)\t0.06845841271370254\n"
     ]
    }
   ],
   "source": [
    " from sklearn.feature_extraction.text import CountVectorizer, TfidfVectorizer\n",
    "    \n",
    "# This book is great !\n",
    "# This book was so bad\n",
    "\n",
    "vectorizer = TfidfVectorizer()\n",
    "train_x_vectors = vectorizer.fit_transform(train_x)\n",
    "\n",
    "test_x_vectors = vectorizer.transform(test_x)\n",
    "\n",
    "print(train_x_vectors[0])"
   ]
  },
  {
   "cell_type": "markdown",
   "id": "a055b3b6",
   "metadata": {},
   "source": [
    "---"
   ]
  },
  {
   "cell_type": "markdown",
   "id": "0dd2bd01",
   "metadata": {},
   "source": [
    "# Classification"
   ]
  },
  {
   "cell_type": "markdown",
   "id": "16dfa8a9",
   "metadata": {},
   "source": [
    "### Linear SVM"
   ]
  },
  {
   "cell_type": "code",
   "execution_count": 6,
   "id": "fd6d49c7",
   "metadata": {},
   "outputs": [
    {
     "name": "stdout",
     "output_type": "stream",
     "text": [
      "['POSITIVE']\n",
      "In this book we learn that no matter our circumstances we can overcome and rise above them, and we can be loved! Sometimes it takes hard things and maybe even tragic things to happen in our lives to help us see more clearly and to grow. I  enjoyed this book in the series. Heather Tullis is a great writer and makes the story interesting with some twists and turns. I look forward to reading the rest of the series. \n",
      " POSITIVE\n"
     ]
    }
   ],
   "source": [
    "from sklearn import svm\n",
    "clf_svm = svm.SVC(kernel=\"linear\")\n",
    "clf_svm.fit(train_x_vectors, train_y)\n",
    "print(clf_svm.predict(test_x_vectors[0]))\n",
    "\n",
    "print(test_x[0], \"\\n\", test_y[0])"
   ]
  },
  {
   "cell_type": "markdown",
   "id": "e1804ee0",
   "metadata": {},
   "source": [
    "### Decision Tree"
   ]
  },
  {
   "cell_type": "code",
   "execution_count": 7,
   "id": "5cd5f035",
   "metadata": {},
   "outputs": [
    {
     "name": "stdout",
     "output_type": "stream",
     "text": [
      "['NEGATIVE']\n",
      "In this book we learn that no matter our circumstances we can overcome and rise above them, and we can be loved! Sometimes it takes hard things and maybe even tragic things to happen in our lives to help us see more clearly and to grow. I  enjoyed this book in the series. Heather Tullis is a great writer and makes the story interesting with some twists and turns. I look forward to reading the rest of the series. \n",
      " POSITIVE\n"
     ]
    }
   ],
   "source": [
    "from sklearn.tree import DecisionTreeClassifier\n",
    "\n",
    "clf_dec = DecisionTreeClassifier()\n",
    "clf_dec.fit(train_x_vectors, train_y)\n",
    "\n",
    "print(clf_dec.predict(test_x_vectors[0]))\n",
    "\n",
    "print(test_x[0], \"\\n\", test_y[0])"
   ]
  },
  {
   "cell_type": "markdown",
   "id": "c70d731c",
   "metadata": {},
   "source": [
    "### Naive Bayes"
   ]
  },
  {
   "cell_type": "code",
   "execution_count": 8,
   "id": "7eebfdf1",
   "metadata": {},
   "outputs": [
    {
     "name": "stdout",
     "output_type": "stream",
     "text": [
      "['POSITIVE']\n",
      "In this book we learn that no matter our circumstances we can overcome and rise above them, and we can be loved! Sometimes it takes hard things and maybe even tragic things to happen in our lives to help us see more clearly and to grow. I  enjoyed this book in the series. Heather Tullis is a great writer and makes the story interesting with some twists and turns. I look forward to reading the rest of the series. \n",
      " POSITIVE\n"
     ]
    }
   ],
   "source": [
    "from sklearn.naive_bayes import GaussianNB\n",
    "\n",
    "clf_gnb = DecisionTreeClassifier()\n",
    "clf_gnb.fit(train_x_vectors, train_y)\n",
    "\n",
    "print(clf_gnb.predict(test_x_vectors[0]))\n",
    "\n",
    "print(test_x[0], \"\\n\", test_y[0])"
   ]
  },
  {
   "cell_type": "markdown",
   "id": "69728c66",
   "metadata": {},
   "source": [
    "### Logistic Regression"
   ]
  },
  {
   "cell_type": "code",
   "execution_count": 9,
   "id": "00ca9f0e",
   "metadata": {},
   "outputs": [
    {
     "name": "stdout",
     "output_type": "stream",
     "text": [
      "['NEGATIVE']\n",
      "In this book we learn that no matter our circumstances we can overcome and rise above them, and we can be loved! Sometimes it takes hard things and maybe even tragic things to happen in our lives to help us see more clearly and to grow. I  enjoyed this book in the series. Heather Tullis is a great writer and makes the story interesting with some twists and turns. I look forward to reading the rest of the series. \n",
      " POSITIVE\n"
     ]
    }
   ],
   "source": [
    "from sklearn.linear_model import LogisticRegression\n",
    "\n",
    "clf_log = DecisionTreeClassifier()\n",
    "clf_log.fit(train_x_vectors, train_y)\n",
    "\n",
    "print(clf_log.predict(test_x_vectors[0]))\n",
    "\n",
    "print(test_x[0], \"\\n\", test_y[0])"
   ]
  },
  {
   "cell_type": "markdown",
   "id": "356f81ef",
   "metadata": {},
   "source": [
    "---"
   ]
  },
  {
   "cell_type": "markdown",
   "id": "5b67e898",
   "metadata": {},
   "source": [
    "# Evaluation"
   ]
  },
  {
   "cell_type": "code",
   "execution_count": 10,
   "id": "dff76978",
   "metadata": {},
   "outputs": [
    {
     "name": "stdout",
     "output_type": "stream",
     "text": [
      "0.8076923076923077\n",
      "0.6418269230769231\n",
      "0.6442307692307693\n",
      "0.6802884615384616\n"
     ]
    }
   ],
   "source": [
    "# Mean Accuracy\n",
    "print(clf_svm.score(test_x_vectors, test_y))\n",
    "print(clf_dec.score(test_x_vectors, test_y))\n",
    "print(clf_gnb.score(test_x_vectors, test_y))\n",
    "print(clf_log.score(test_x_vectors, test_y))"
   ]
  },
  {
   "cell_type": "code",
   "execution_count": 11,
   "id": "9ed42635",
   "metadata": {},
   "outputs": [
    {
     "name": "stdout",
     "output_type": "stream",
     "text": [
      "[0.80582524 0.80952381]\n",
      "[0.63569682 0.64775414]\n",
      "[0.64251208 0.64593301]\n",
      "[0.66997519 0.68997669]\n"
     ]
    }
   ],
   "source": [
    "# F1 Score\n",
    "from sklearn.metrics import f1_score\n",
    "print(f1_score(test_y, clf_svm.predict(test_x_vectors), average=None,\n",
    "         labels=[Sentiment.POSITIVE, Sentiment.NEGATIVE]))\n",
    "print(f1_score(test_y, clf_dec.predict(test_x_vectors), average=None,\n",
    "         labels=[Sentiment.POSITIVE, Sentiment.NEGATIVE]))\n",
    "print(f1_score(test_y, clf_gnb.predict(test_x_vectors), average=None,\n",
    "         labels=[Sentiment.POSITIVE, Sentiment.NEGATIVE]))\n",
    "print(f1_score(test_y, clf_log.predict(test_x_vectors), average=None,\n",
    "         labels=[Sentiment.POSITIVE, Sentiment.NEGATIVE]))"
   ]
  },
  {
   "cell_type": "code",
   "execution_count": 12,
   "id": "d829e65a",
   "metadata": {},
   "outputs": [
    {
     "data": {
      "text/plain": [
       "436"
      ]
     },
     "execution_count": 12,
     "metadata": {},
     "output_type": "execute_result"
    }
   ],
   "source": [
    "train_y.count(Sentiment.POSITIVE)"
   ]
  },
  {
   "cell_type": "markdown",
   "id": "2e2ed3af",
   "metadata": {},
   "source": [
    "---"
   ]
  },
  {
   "cell_type": "markdown",
   "id": "58c001ad",
   "metadata": {},
   "source": [
    "# Tuning our Model (With Grid Search)"
   ]
  },
  {
   "cell_type": "code",
   "execution_count": 22,
   "id": "5dc08911",
   "metadata": {},
   "outputs": [
    {
     "data": {
      "text/html": [
       "<style>#sk-container-id-5 {color: black;background-color: white;}#sk-container-id-5 pre{padding: 0;}#sk-container-id-5 div.sk-toggleable {background-color: white;}#sk-container-id-5 label.sk-toggleable__label {cursor: pointer;display: block;width: 100%;margin-bottom: 0;padding: 0.3em;box-sizing: border-box;text-align: center;}#sk-container-id-5 label.sk-toggleable__label-arrow:before {content: \"▸\";float: left;margin-right: 0.25em;color: #696969;}#sk-container-id-5 label.sk-toggleable__label-arrow:hover:before {color: black;}#sk-container-id-5 div.sk-estimator:hover label.sk-toggleable__label-arrow:before {color: black;}#sk-container-id-5 div.sk-toggleable__content {max-height: 0;max-width: 0;overflow: hidden;text-align: left;background-color: #f0f8ff;}#sk-container-id-5 div.sk-toggleable__content pre {margin: 0.2em;color: black;border-radius: 0.25em;background-color: #f0f8ff;}#sk-container-id-5 input.sk-toggleable__control:checked~div.sk-toggleable__content {max-height: 200px;max-width: 100%;overflow: auto;}#sk-container-id-5 input.sk-toggleable__control:checked~label.sk-toggleable__label-arrow:before {content: \"▾\";}#sk-container-id-5 div.sk-estimator input.sk-toggleable__control:checked~label.sk-toggleable__label {background-color: #d4ebff;}#sk-container-id-5 div.sk-label input.sk-toggleable__control:checked~label.sk-toggleable__label {background-color: #d4ebff;}#sk-container-id-5 input.sk-hidden--visually {border: 0;clip: rect(1px 1px 1px 1px);clip: rect(1px, 1px, 1px, 1px);height: 1px;margin: -1px;overflow: hidden;padding: 0;position: absolute;width: 1px;}#sk-container-id-5 div.sk-estimator {font-family: monospace;background-color: #f0f8ff;border: 1px dotted black;border-radius: 0.25em;box-sizing: border-box;margin-bottom: 0.5em;}#sk-container-id-5 div.sk-estimator:hover {background-color: #d4ebff;}#sk-container-id-5 div.sk-parallel-item::after {content: \"\";width: 100%;border-bottom: 1px solid gray;flex-grow: 1;}#sk-container-id-5 div.sk-label:hover label.sk-toggleable__label {background-color: #d4ebff;}#sk-container-id-5 div.sk-serial::before {content: \"\";position: absolute;border-left: 1px solid gray;box-sizing: border-box;top: 0;bottom: 0;left: 50%;z-index: 0;}#sk-container-id-5 div.sk-serial {display: flex;flex-direction: column;align-items: center;background-color: white;padding-right: 0.2em;padding-left: 0.2em;position: relative;}#sk-container-id-5 div.sk-item {position: relative;z-index: 1;}#sk-container-id-5 div.sk-parallel {display: flex;align-items: stretch;justify-content: center;background-color: white;position: relative;}#sk-container-id-5 div.sk-item::before, #sk-container-id-5 div.sk-parallel-item::before {content: \"\";position: absolute;border-left: 1px solid gray;box-sizing: border-box;top: 0;bottom: 0;left: 50%;z-index: -1;}#sk-container-id-5 div.sk-parallel-item {display: flex;flex-direction: column;z-index: 1;position: relative;background-color: white;}#sk-container-id-5 div.sk-parallel-item:first-child::after {align-self: flex-end;width: 50%;}#sk-container-id-5 div.sk-parallel-item:last-child::after {align-self: flex-start;width: 50%;}#sk-container-id-5 div.sk-parallel-item:only-child::after {width: 0;}#sk-container-id-5 div.sk-dashed-wrapped {border: 1px dashed gray;margin: 0 0.4em 0.5em 0.4em;box-sizing: border-box;padding-bottom: 0.4em;background-color: white;}#sk-container-id-5 div.sk-label label {font-family: monospace;font-weight: bold;display: inline-block;line-height: 1.2em;}#sk-container-id-5 div.sk-label-container {text-align: center;}#sk-container-id-5 div.sk-container {/* jupyter's `normalize.less` sets `[hidden] { display: none; }` but bootstrap.min.css set `[hidden] { display: none !important; }` so we also need the `!important` here to be able to override the default hidden behavior on the sphinx rendered scikit-learn.org. See: https://github.com/scikit-learn/scikit-learn/issues/21755 */display: inline-block !important;position: relative;}#sk-container-id-5 div.sk-text-repr-fallback {display: none;}</style><div id=\"sk-container-id-5\" class=\"sk-top-container\"><div class=\"sk-text-repr-fallback\"><pre>GridSearchCV(cv=5, estimator=SVC(),\n",
       "             param_grid={&#x27;C&#x27;: (1, 4, 8, 16, 32), &#x27;kernel&#x27;: (&#x27;linear&#x27;, &#x27;rbf&#x27;)})</pre><b>In a Jupyter environment, please rerun this cell to show the HTML representation or trust the notebook. <br />On GitHub, the HTML representation is unable to render, please try loading this page with nbviewer.org.</b></div><div class=\"sk-container\" hidden><div class=\"sk-item sk-dashed-wrapped\"><div class=\"sk-label-container\"><div class=\"sk-label sk-toggleable\"><input class=\"sk-toggleable__control sk-hidden--visually\" id=\"sk-estimator-id-9\" type=\"checkbox\" ><label for=\"sk-estimator-id-9\" class=\"sk-toggleable__label sk-toggleable__label-arrow\">GridSearchCV</label><div class=\"sk-toggleable__content\"><pre>GridSearchCV(cv=5, estimator=SVC(),\n",
       "             param_grid={&#x27;C&#x27;: (1, 4, 8, 16, 32), &#x27;kernel&#x27;: (&#x27;linear&#x27;, &#x27;rbf&#x27;)})</pre></div></div></div><div class=\"sk-parallel\"><div class=\"sk-parallel-item\"><div class=\"sk-item\"><div class=\"sk-label-container\"><div class=\"sk-label sk-toggleable\"><input class=\"sk-toggleable__control sk-hidden--visually\" id=\"sk-estimator-id-10\" type=\"checkbox\" ><label for=\"sk-estimator-id-10\" class=\"sk-toggleable__label sk-toggleable__label-arrow\">estimator: SVC</label><div class=\"sk-toggleable__content\"><pre>SVC()</pre></div></div></div><div class=\"sk-serial\"><div class=\"sk-item\"><div class=\"sk-estimator sk-toggleable\"><input class=\"sk-toggleable__control sk-hidden--visually\" id=\"sk-estimator-id-11\" type=\"checkbox\" ><label for=\"sk-estimator-id-11\" class=\"sk-toggleable__label sk-toggleable__label-arrow\">SVC</label><div class=\"sk-toggleable__content\"><pre>SVC()</pre></div></div></div></div></div></div></div></div></div></div>"
      ],
      "text/plain": [
       "GridSearchCV(cv=5, estimator=SVC(),\n",
       "             param_grid={'C': (1, 4, 8, 16, 32), 'kernel': ('linear', 'rbf')})"
      ]
     },
     "execution_count": 22,
     "metadata": {},
     "output_type": "execute_result"
    }
   ],
   "source": [
    "from sklearn.model_selection import GridSearchCV\n",
    "\n",
    "parameters = {\"kernel\": (\"linear\", \"rbf\"), \"C\": (1, 4, 8, 16, 32)}\n",
    "\n",
    "svc = svm.SVC()\n",
    "clf = GridSearchCV(svc, parameters, cv=5)\n",
    "clf.fit(train_x_vectors, train_y)"
   ]
  },
  {
   "cell_type": "code",
   "execution_count": 21,
   "id": "f8566c46",
   "metadata": {},
   "outputs": [
    {
     "name": "stdout",
     "output_type": "stream",
     "text": [
      "{'C': 4, 'kernel': 'rbf'}\n",
      "0.8290968801313628\n"
     ]
    }
   ],
   "source": [
    "print(clf.best_params_)\n",
    "print(clf.best_score_)\n"
   ]
  },
  {
   "cell_type": "markdown",
   "id": "b46dafd2",
   "metadata": {},
   "source": [
    "---"
   ]
  },
  {
   "cell_type": "markdown",
   "id": "59a7a8f5",
   "metadata": {},
   "source": [
    "# Saving Model"
   ]
  },
  {
   "cell_type": "markdown",
   "id": "00aebf0f",
   "metadata": {},
   "source": [
    "### Save Model"
   ]
  },
  {
   "cell_type": "code",
   "execution_count": 26,
   "id": "0d494076",
   "metadata": {},
   "outputs": [],
   "source": [
    "import pickle\n",
    "\n",
    "with open(\"./models/sentiment_classifier.pkl\", \"wb\") as f:\n",
    "    pickle.dump(clf, f)"
   ]
  },
  {
   "cell_type": "markdown",
   "id": "c55ba00f",
   "metadata": {},
   "source": [
    "### Load Model"
   ]
  },
  {
   "cell_type": "code",
   "execution_count": 27,
   "id": "ad20b465",
   "metadata": {},
   "outputs": [],
   "source": [
    "with open(\"./models/sentiment_classifier.pkl\", \"rb\") as f:\n",
    "    loaded_clf = pickle.load(f)"
   ]
  },
  {
   "cell_type": "code",
   "execution_count": 28,
   "id": "f1da2398",
   "metadata": {},
   "outputs": [
    {
     "data": {
      "text/plain": [
       "array(['POSITIVE'], dtype='<U8')"
      ]
     },
     "execution_count": 28,
     "metadata": {},
     "output_type": "execute_result"
    }
   ],
   "source": [
    "loaded_clf.predict(test_x_vectors[0])"
   ]
  }
 ],
 "metadata": {
  "kernelspec": {
   "display_name": "ml",
   "language": "python",
   "name": "ml"
  },
  "language_info": {
   "codemirror_mode": {
    "name": "ipython",
    "version": 3
   },
   "file_extension": ".py",
   "mimetype": "text/x-python",
   "name": "python",
   "nbconvert_exporter": "python",
   "pygments_lexer": "ipython3",
   "version": "3.8.16"
  }
 },
 "nbformat": 4,
 "nbformat_minor": 5
}
