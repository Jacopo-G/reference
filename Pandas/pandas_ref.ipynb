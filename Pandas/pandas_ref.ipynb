{
 "cells": [
  {
   "cell_type": "markdown",
   "id": "9f0ae2c8",
   "metadata": {},
   "source": [
    "# Pandas Reference"
   ]
  },
  {
   "cell_type": "markdown",
   "id": "bd43974b",
   "metadata": {},
   "source": [
    "-----"
   ]
  },
  {
   "cell_type": "markdown",
   "id": "4e3ca27d",
   "metadata": {},
   "source": [
    "# Table of Contents"
   ]
  },
  {
   "cell_type": "markdown",
   "id": "4d010cc3",
   "metadata": {},
   "source": [
    "## [Loading Data Into Pandas ](#Loading-Data-Into-Pandas)"
   ]
  },
  {
   "cell_type": "markdown",
   "id": "91566a9b",
   "metadata": {},
   "source": [
    "---"
   ]
  },
  {
   "cell_type": "markdown",
   "id": "81341db7",
   "metadata": {},
   "source": [
    "# Loading Data Into Pandas"
   ]
  },
  {
   "cell_type": "code",
   "execution_count": null,
   "id": "b138fe93",
   "metadata": {},
   "outputs": [],
   "source": []
  }
 ],
 "metadata": {
  "kernelspec": {
   "display_name": "Python 3",
   "language": "python",
   "name": "python3"
  },
  "language_info": {
   "codemirror_mode": {
    "name": "ipython",
    "version": 3
   },
   "file_extension": ".py",
   "mimetype": "text/x-python",
   "name": "python",
   "nbconvert_exporter": "python",
   "pygments_lexer": "ipython3",
   "version": "3.8.9"
  }
 },
 "nbformat": 4,
 "nbformat_minor": 5
}
